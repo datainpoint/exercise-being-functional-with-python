{
 "cells": [
  {
   "cell_type": "markdown",
   "metadata": {
    "deletable": false,
    "editable": false
   },
   "source": [
    "## Programming with Python\n",
    "\n",
    "> Exercise: Being Functional with Python.\n",
    "\n",
    "Kuo, Yao-Jen <yaojenkuo@datainpoint.com> from [DATAINPOINT](https://www.datainpoint.com)"
   ]
  },
  {
   "cell_type": "markdown",
   "metadata": {},
   "source": [
    "## Define a function named `circle_calculator` that is able to calculate the diameter, perimeter, and area given a radius(`r`).\n",
    "\n",
    "\\begin{align}\n",
    "\\text{diameter} = 2r \\\\\n",
    "\\text{perimeter} = 2 \\pi r \\\\\n",
    "\\text{area} = \\pi r^2\n",
    "\\end{align}\n",
    "\n",
    "PS Use $\\pi = 3.14159$\n",
    "\n",
    "- Expected inputs: a numeric `r`.\n",
    "- Expected outputs: a dict with the length of 3."
   ]
  },
  {
   "cell_type": "code",
   "execution_count": 1,
   "metadata": {},
   "outputs": [],
   "source": [
    "def circle_calculator(r):\n",
    "    \"\"\"\n",
    "    >>> circle = circle_calculator(4)\n",
    "    >>> print(len(circle))\n",
    "    3\n",
    "    >>> print(circle['diameter'])\n",
    "    8\n",
    "    >>> print(circle['perimeter'])\n",
    "    25.13272\n",
    "    >>> print(circle['area'])\n",
    "    50.26544\n",
    "    >>> circle = circle_calculator(5)\n",
    "    >>> print(len(circle))\n",
    "    3\n",
    "    >>> print(circle['diameter'])\n",
    "    10\n",
    "    >>> print(circle['perimeter'])\n",
    "    31.4159\n",
    "    >>> print(circle['area'])\n",
    "    78.53975\n",
    "    \"\"\"\n",
    "    ### BEGIN SOLUTION\n",
    "    \n",
    "    ### END SOLUTION"
   ]
  },
  {
   "cell_type": "markdown",
   "metadata": {},
   "source": [
    "## Define a function named `list_aggregator` that is able to aggregate a given list with a specific math operation.\n",
    "\n",
    "- Expected inputs: a list and a string.\n",
    "- Expected outputs: a numeric."
   ]
  },
  {
   "cell_type": "code",
   "execution_count": 2,
   "metadata": {},
   "outputs": [],
   "source": [
    "def list_aggregator(a_list, operation):\n",
    "    \"\"\"\n",
    "    >>> list_aggregator([5, 5, 6, 6], 'add')\n",
    "    22\n",
    "    >>> list_aggregator([5, 5, 6, 6], 'multiply')\n",
    "    900\n",
    "    >>> list_aggregator([5, -5, 6, -6], 'add')\n",
    "    0\n",
    "    >>> list_aggregator([5, -5, 6, -6], 'multiply')\n",
    "    900\n",
    "    >>> list_aggregator([-5, -5, -6, -6], 'add')\n",
    "    -22\n",
    "    >>> list_aggregator([-5, -5, -6, 6], 'multiply')\n",
    "    -900\n",
    "    \"\"\"\n",
    "    ### BEGIN SOLUTION\n",
    "    \n",
    "    ### END SOLUTION"
   ]
  },
  {
   "cell_type": "markdown",
   "metadata": {},
   "source": [
    "## Define a function named `sum_of_numbers`. Given two integers `a` and `b`, which can be positive or negative, find the sum of all the integers between including them too and return it. If the two numbers are equal return `a` or `b`.\n",
    "\n",
    "- Expected inputs: 2 integers.\n",
    "- Expected outputs: an integer.\n",
    "\n",
    "PS `a` and `b` are not ordered."
   ]
  },
  {
   "cell_type": "code",
   "execution_count": 3,
   "metadata": {},
   "outputs": [],
   "source": [
    "def sum_of_numbers(a, b):\n",
    "    \"\"\"\n",
    "    >>> sum_of_numbers(1, 0) # 0 + 1\n",
    "    1\n",
    "    >>> sum_of_numbers(1, 3) # 1 + 2 + 3\n",
    "    6\n",
    "    >>> sum_of_numbers(1, 1) # Since both are the same\n",
    "    1\n",
    "    >>> sum_of_numbers(-1, 2) # -1 + 0 + 1 + 2\n",
    "    2\n",
    "    \"\"\"\n",
    "    ### BEGIN SOLUTION\n",
    "    \n",
    "    ### END SOLUTION"
   ]
  },
  {
   "cell_type": "markdown",
   "metadata": {},
   "source": [
    "## Define a function named `mean_squared_error` that is able to calculate the mean squared error between two lists: $\\hat{y_i}$ and $y_i$\n",
    "\n",
    "\\begin{equation}\n",
    "\\text{Mean Squared Error} = \\frac{1}{n}\\sum_{i=1}^n{(\\hat{y_i} - y_i)^2}\n",
    "\\end{equation}\n",
    "\n",
    "- Expected inputs: 2 lists of numeric.\n",
    "- Expected outputs: a numeric."
   ]
  },
  {
   "cell_type": "code",
   "execution_count": 4,
   "metadata": {},
   "outputs": [],
   "source": [
    "def mean_squared_error(y_hat, y):\n",
    "    \"\"\"\n",
    "    >>> mean_squared_error([1, 2, 3, 4, 5], [1, 2, 3, 4, 5])\n",
    "    0.0\n",
    "    >>> mean_squared_error([1, 2, 3, 4, 5], [1, 3, 5, 7, 9])\n",
    "    6.0\n",
    "    >>> mean_squared_error([1, 2, 3, 4, 5], [2, 4, 6, 8, 10])\n",
    "    11.0\n",
    "    >>> mean_squared_error([1, 2, 3, 4, 5], [-1, -2, -3, -4, -5])\n",
    "    44.0\n",
    "    >>> mean_squared_error([1, 2, 3, 4, 5], [1, 1, 1, 1, 1])\n",
    "    6.0\n",
    "    \"\"\"\n",
    "    ### BEGIN SOLUTION\n",
    "    \n",
    "    ### END SOLUTION"
   ]
  },
  {
   "cell_type": "markdown",
   "metadata": {},
   "source": [
    "## Define a function named `temperature_converter` that is able to convert the temperature degrees between 3 scales: Fahrenheit, Celsius, Kelvin.\n",
    "\n",
    "\\begin{align}\n",
    "\\text{Fahrenheit} = \\text{Celsius} \\times \\frac{9}{5} + 32 \\\\\n",
    "\\text{Kelvin} = \\text{Celsius} + 273.15\n",
    "\\end{align}\n",
    "\n",
    "- Expected inputs: a numeric(degree), 2 strings(from_scale, to_scale).\n",
    "- Expected outputs: a numeric."
   ]
  },
  {
   "cell_type": "code",
   "execution_count": 5,
   "metadata": {},
   "outputs": [],
   "source": [
    "def temperature_converter(degree, from_scale, to_scale):\n",
    "    \"\"\"\n",
    "    >>> temperature_converter(0, 'Celsius', 'Fahrenheit')\n",
    "    32.0\n",
    "    >>> temperature_converter(0, 'Celsius', 'Kelvin')\n",
    "    273.15\n",
    "    >>> temperature_converter(32, 'Fahrenheit', 'Celsius')\n",
    "    0.0\n",
    "    >>> temperature_converter(32, 'Fahrenheit', 'Kelvin')\n",
    "    273.15\n",
    "    >>> temperature_converter(273.15, 'Kelvin', 'Celsius')\n",
    "    0.0\n",
    "    >>> temperature_converter(273.15, 'Kelvin', 'Fahrenheit')\n",
    "    32.0\n",
    "    \"\"\"\n",
    "    ### BEGIN SOLUTION\n",
    "    \n",
    "    ### END SOLUTION"
   ]
  },
  {
   "cell_type": "markdown",
   "metadata": {
    "deletable": false,
    "editable": false
   },
   "source": [
    "## Run tests!\n",
    "\n",
    "Kernel -> Restart & Run All -> Restart and Run All Cells."
   ]
  },
  {
   "cell_type": "code",
   "execution_count": 6,
   "metadata": {
    "deletable": false,
    "editable": false
   },
   "outputs": [
    {
     "name": "stderr",
     "output_type": "stream",
     "text": [
      "test_00_circle_calculator (__main__.TestMidterm) ... FAIL\n",
      "test_01_list_aggregator (__main__.TestMidterm) ... FAIL\n",
      "test_02_sum_of_numbers (__main__.TestMidterm) ... FAIL\n",
      "test_03_mean_squared_error (__main__.TestMidterm) ... ERROR\n",
      "test_04_temperature_converter (__main__.TestMidterm) ... ERROR\n",
      "\n",
      "======================================================================\n",
      "ERROR: test_03_mean_squared_error (__main__.TestMidterm)\n",
      "----------------------------------------------------------------------\n",
      "Traceback (most recent call last):\n",
      "  File \"<ipython-input-6-cb969ec08074>\", line 30, in test_03_mean_squared_error\n",
      "    self.assertAlmostEqual(mean_squared_error([1, 2, 3, 4, 5], [1, 2, 3, 4, 5]), 0.0)\n",
      "  File \"/Library/Frameworks/Python.framework/Versions/3.6/lib/python3.6/unittest/case.py\", line 871, in assertAlmostEqual\n",
      "    if round(abs(second-first), places) == 0:\n",
      "TypeError: unsupported operand type(s) for -: 'float' and 'NoneType'\n",
      "\n",
      "======================================================================\n",
      "ERROR: test_04_temperature_converter (__main__.TestMidterm)\n",
      "----------------------------------------------------------------------\n",
      "Traceback (most recent call last):\n",
      "  File \"<ipython-input-6-cb969ec08074>\", line 38, in test_04_temperature_converter\n",
      "    self.assertAlmostEqual(temperature_converter(0, 'Celsius', 'Fahrenheit'), 32.0)\n",
      "  File \"/Library/Frameworks/Python.framework/Versions/3.6/lib/python3.6/unittest/case.py\", line 871, in assertAlmostEqual\n",
      "    if round(abs(second-first), places) == 0:\n",
      "TypeError: unsupported operand type(s) for -: 'float' and 'NoneType'\n",
      "\n",
      "======================================================================\n",
      "FAIL: test_00_circle_calculator (__main__.TestMidterm)\n",
      "----------------------------------------------------------------------\n",
      "Traceback (most recent call last):\n",
      "  File \"<ipython-input-6-cb969ec08074>\", line 6, in test_00_circle_calculator\n",
      "    self.assertIsInstance(circle, dict)\n",
      "AssertionError: None is not an instance of <class 'dict'>\n",
      "\n",
      "======================================================================\n",
      "FAIL: test_01_list_aggregator (__main__.TestMidterm)\n",
      "----------------------------------------------------------------------\n",
      "Traceback (most recent call last):\n",
      "  File \"<ipython-input-6-cb969ec08074>\", line 18, in test_01_list_aggregator\n",
      "    self.assertEqual(list_aggregator([5, 5, 6, 6], 'add'), 22)\n",
      "AssertionError: None != 22\n",
      "\n",
      "======================================================================\n",
      "FAIL: test_02_sum_of_numbers (__main__.TestMidterm)\n",
      "----------------------------------------------------------------------\n",
      "Traceback (most recent call last):\n",
      "  File \"<ipython-input-6-cb969ec08074>\", line 25, in test_02_sum_of_numbers\n",
      "    self.assertEqual(sum_of_numbers(1, 0), 1)\n",
      "AssertionError: None != 1\n",
      "\n",
      "----------------------------------------------------------------------\n",
      "Ran 5 tests in 0.014s\n",
      "\n",
      "FAILED (failures=3, errors=2)\n"
     ]
    }
   ],
   "source": [
    "import unittest\n",
    "\n",
    "class TestMidterm(unittest.TestCase):\n",
    "    def test_00_circle_calculator(self):\n",
    "        circle = circle_calculator(4)\n",
    "        self.assertIsInstance(circle, dict)\n",
    "        self.assertEqual(len(circle), 3)\n",
    "        self.assertAlmostEqual(circle['diameter'], 8)\n",
    "        self.assertAlmostEqual(circle['perimeter'], 25.13272)\n",
    "        self.assertAlmostEqual(circle['area'], 50.26544)\n",
    "        circle = circle_calculator(5)\n",
    "        self.assertIsInstance(circle, dict)\n",
    "        self.assertEqual(len(circle), 3)\n",
    "        self.assertAlmostEqual(circle['diameter'], 10)\n",
    "        self.assertAlmostEqual(circle['perimeter'], 31.4159)\n",
    "        self.assertAlmostEqual(circle['area'], 78.53975)\n",
    "    def test_01_list_aggregator(self):\n",
    "        self.assertEqual(list_aggregator([5, 5, 6, 6], 'add'), 22)\n",
    "        self.assertEqual(list_aggregator([5, 5, 6, 6], 'multiply'), 900)\n",
    "        self.assertEqual(list_aggregator([5, -5, 6, -6], 'add'), 0)\n",
    "        self.assertEqual(list_aggregator([5, -5, 6, -6], 'multiply'), 900)\n",
    "        self.assertEqual(list_aggregator([-5, -5, -6, -6], 'add'), -22)\n",
    "        self.assertEqual(list_aggregator([-5, -5, -6, 6], 'multiply'), -900)\n",
    "    def test_02_sum_of_numbers(self):\n",
    "        self.assertEqual(sum_of_numbers(1, 0), 1)\n",
    "        self.assertEqual(sum_of_numbers(1, 3), 6)\n",
    "        self.assertEqual(sum_of_numbers(1, 1), 1)\n",
    "        self.assertEqual(sum_of_numbers(-1, 2), 2)\n",
    "    def test_03_mean_squared_error(self):\n",
    "        self.assertAlmostEqual(mean_squared_error([1, 2, 3, 4, 5], [1, 2, 3, 4, 5]), 0.0)\n",
    "        self.assertAlmostEqual(mean_squared_error([1, 2, 3, 4, 5], [1, 3, 5, 7, 9]), 6.0)\n",
    "        self.assertAlmostEqual(mean_squared_error([1, 2, 3, 4, 5], [2, 4, 6, 8, 10]), 11.0)\n",
    "        self.assertAlmostEqual(mean_squared_error([1, 2, 3, 4, 5], [-1, -2, -3, -4, -5]), 44.0)\n",
    "        self.assertAlmostEqual(mean_squared_error([1, 2, 3, 4, 5], [1, 1, 1, 1, 1]), 6.0)\n",
    "        self.assertAlmostEqual(mean_squared_error([1, 2, 3, 4, 5], [2, 2, 2, 2, 2]), 3.0)\n",
    "        self.assertAlmostEqual(mean_squared_error([1, 2, 3, 4, 5], [5, 4, 3, 2, 1]), 8.0)\n",
    "    def test_04_temperature_converter(self):\n",
    "        self.assertAlmostEqual(temperature_converter(0, 'Celsius', 'Fahrenheit'), 32.0)\n",
    "        self.assertAlmostEqual(temperature_converter(0, 'Celsius', 'Kelvin'), 273.15)\n",
    "        self.assertAlmostEqual(temperature_converter(32, 'Fahrenheit', 'Celsius'), 0.0)\n",
    "        self.assertAlmostEqual(temperature_converter(32, 'Fahrenheit', 'Kelvin'), 273.15)\n",
    "        self.assertAlmostEqual(temperature_converter(273.15, 'Kelvin', 'Celsius'), 0.0)\n",
    "        self.assertAlmostEqual(temperature_converter(273.15, 'Kelvin', 'Fahrenheit'), 32.0)\n",
    "        self.assertAlmostEqual(temperature_converter(100, 'Celsius', 'Fahrenheit'), 212.0)\n",
    "        self.assertAlmostEqual(temperature_converter(100, 'Celsius', 'Kelvin'), 373.15)\n",
    "        self.assertAlmostEqual(temperature_converter(212, 'Fahrenheit', 'Celsius'), 100.0)\n",
    "        self.assertAlmostEqual(temperature_converter(212, 'Fahrenheit', 'Kelvin'), 373.15)\n",
    "        self.assertAlmostEqual(temperature_converter(373.15, 'Kelvin', 'Celsius'), 100.0)\n",
    "        self.assertAlmostEqual(temperature_converter(373.15, 'Kelvin', 'Fahrenheit'), 212.0)\n",
    "        \n",
    "suite = unittest.TestLoader().loadTestsFromTestCase(TestMidterm)\n",
    "runner = unittest.TextTestRunner(verbosity=2)\n",
    "test_results = runner.run(suite)\n",
    "number_of_failures = len(test_results.failures)\n",
    "number_of_errors = len(test_results.errors)\n",
    "number_of_test_runs = test_results.testsRun\n",
    "number_of_successes = number_of_test_runs - (number_of_failures + number_of_errors)"
   ]
  },
  {
   "cell_type": "code",
   "execution_count": 7,
   "metadata": {
    "deletable": false,
    "editable": false
   },
   "outputs": [
    {
     "name": "stdout",
     "output_type": "stream",
     "text": [
      "You've got 0 successes among 5 questions.\n"
     ]
    }
   ],
   "source": [
    "print(\"You've got {} successes among {} questions.\".format(number_of_successes, number_of_test_runs))"
   ]
  }
 ],
 "metadata": {
  "kernelspec": {
   "display_name": "Python Data Analysis",
   "language": "python",
   "name": "pyda"
  },
  "language_info": {
   "codemirror_mode": {
    "name": "ipython",
    "version": 3
   },
   "file_extension": ".py",
   "mimetype": "text/x-python",
   "name": "python",
   "nbconvert_exporter": "python",
   "pygments_lexer": "ipython3",
   "version": "3.6.8"
  }
 },
 "nbformat": 4,
 "nbformat_minor": 4
}
